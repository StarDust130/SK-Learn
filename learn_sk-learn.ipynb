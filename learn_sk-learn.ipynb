{
 "cells": [
  {
   "cell_type": "code",
   "execution_count": 2,
   "id": "9ceff38a",
   "metadata": {},
   "outputs": [
    {
     "name": "stdout",
     "output_type": "stream",
     "text": [
      "scikit-learn version: 1.7.1\n"
     ]
    }
   ],
   "source": [
    "import sklearn\n",
    "import numpy as np\n",
    "import pandas as pd\n",
    "print(\"scikit-learn version:\", sklearn.__version__)\n"
   ]
  },
  {
   "cell_type": "code",
   "execution_count": 3,
   "id": "a246e112",
   "metadata": {},
   "outputs": [
    {
     "data": {
      "text/html": [
       "<div>\n",
       "<style scoped>\n",
       "    .dataframe tbody tr th:only-of-type {\n",
       "        vertical-align: middle;\n",
       "    }\n",
       "\n",
       "    .dataframe tbody tr th {\n",
       "        vertical-align: top;\n",
       "    }\n",
       "\n",
       "    .dataframe thead th {\n",
       "        text-align: right;\n",
       "    }\n",
       "</style>\n",
       "<table border=\"1\" class=\"dataframe\">\n",
       "  <thead>\n",
       "    <tr style=\"text-align: right;\">\n",
       "      <th></th>\n",
       "      <th>Name</th>\n",
       "      <th>Age</th>\n",
       "      <th>City</th>\n",
       "      <th>Salary</th>\n",
       "    </tr>\n",
       "  </thead>\n",
       "  <tbody>\n",
       "    <tr>\n",
       "      <th>0</th>\n",
       "      <td>Alice</td>\n",
       "      <td>25.0</td>\n",
       "      <td>New York</td>\n",
       "      <td>70000.0</td>\n",
       "    </tr>\n",
       "    <tr>\n",
       "      <th>1</th>\n",
       "      <td>Bob</td>\n",
       "      <td>NaN</td>\n",
       "      <td>Los Angeles</td>\n",
       "      <td>80000.0</td>\n",
       "    </tr>\n",
       "    <tr>\n",
       "      <th>2</th>\n",
       "      <td>Charlie</td>\n",
       "      <td>35.0</td>\n",
       "      <td>Chicago</td>\n",
       "      <td>120000.0</td>\n",
       "    </tr>\n",
       "    <tr>\n",
       "      <th>3</th>\n",
       "      <td>David</td>\n",
       "      <td>40.0</td>\n",
       "      <td>Houston</td>\n",
       "      <td>NaN</td>\n",
       "    </tr>\n",
       "    <tr>\n",
       "      <th>4</th>\n",
       "      <td>Eve</td>\n",
       "      <td>NaN</td>\n",
       "      <td>Phoenix</td>\n",
       "      <td>NaN</td>\n",
       "    </tr>\n",
       "  </tbody>\n",
       "</table>\n",
       "</div>"
      ],
      "text/plain": [
       "      Name   Age         City    Salary\n",
       "0    Alice  25.0     New York   70000.0\n",
       "1      Bob   NaN  Los Angeles   80000.0\n",
       "2  Charlie  35.0      Chicago  120000.0\n",
       "3    David  40.0      Houston       NaN\n",
       "4      Eve   NaN      Phoenix       NaN"
      ]
     },
     "execution_count": 3,
     "metadata": {},
     "output_type": "execute_result"
    }
   ],
   "source": [
    "data = {\n",
    "    \"Name\": [\"Alice\", \"Bob\", \"Charlie\" , \"David\" , \"Eve\"],\n",
    "    \"Age\": [25, None, 35, 40, None],\n",
    "    \"City\": [\"New York\", \"Los Angeles\", \"Chicago\" , \"Houston\", \"Phoenix\"],\n",
    "    \"Salary\": [70000, 80000, 120000, None, None]\n",
    "\n",
    "}\n",
    "\n",
    "df = pd.DataFrame(data)\n",
    "df"
   ]
  },
  {
   "cell_type": "code",
   "execution_count": 4,
   "id": "5cdfc043",
   "metadata": {},
   "outputs": [
    {
     "data": {
      "text/plain": [
       "Name      0\n",
       "Age       2\n",
       "City      0\n",
       "Salary    2\n",
       "dtype: int64"
      ]
     },
     "execution_count": 4,
     "metadata": {},
     "output_type": "execute_result"
    }
   ],
   "source": [
    "#  Check if any null value in \n",
    "df.isnull().sum() # Count of null values in each column"
   ]
  },
  {
   "cell_type": "code",
   "execution_count": 5,
   "id": "5c301a7c",
   "metadata": {},
   "outputs": [
    {
     "data": {
      "text/html": [
       "<div>\n",
       "<style scoped>\n",
       "    .dataframe tbody tr th:only-of-type {\n",
       "        vertical-align: middle;\n",
       "    }\n",
       "\n",
       "    .dataframe tbody tr th {\n",
       "        vertical-align: top;\n",
       "    }\n",
       "\n",
       "    .dataframe thead th {\n",
       "        text-align: right;\n",
       "    }\n",
       "</style>\n",
       "<table border=\"1\" class=\"dataframe\">\n",
       "  <thead>\n",
       "    <tr style=\"text-align: right;\">\n",
       "      <th></th>\n",
       "      <th>Name</th>\n",
       "      <th>Age</th>\n",
       "      <th>City</th>\n",
       "      <th>Salary</th>\n",
       "    </tr>\n",
       "  </thead>\n",
       "  <tbody>\n",
       "    <tr>\n",
       "      <th>0</th>\n",
       "      <td>Alice</td>\n",
       "      <td>25.0</td>\n",
       "      <td>New York</td>\n",
       "      <td>70000.0</td>\n",
       "    </tr>\n",
       "    <tr>\n",
       "      <th>2</th>\n",
       "      <td>Charlie</td>\n",
       "      <td>35.0</td>\n",
       "      <td>Chicago</td>\n",
       "      <td>120000.0</td>\n",
       "    </tr>\n",
       "  </tbody>\n",
       "</table>\n",
       "</div>"
      ],
      "text/plain": [
       "      Name   Age      City    Salary\n",
       "0    Alice  25.0  New York   70000.0\n",
       "2  Charlie  35.0   Chicago  120000.0"
      ]
     },
     "execution_count": 5,
     "metadata": {},
     "output_type": "execute_result"
    }
   ],
   "source": [
    "df_drop = df.dropna() # Drop rows with any null values\n",
    "df_drop"
   ]
  },
  {
   "cell_type": "code",
   "execution_count": 10,
   "id": "37e5794d",
   "metadata": {},
   "outputs": [],
   "source": [
    "# df_fill = df.fillna({'Age': df['Age'].mean(), 'Salary': df['Salary'].mean()}) # Fill null values with mean\n",
    "# df_fill"
   ]
  },
  {
   "cell_type": "code",
   "execution_count": 9,
   "id": "a0a10e33",
   "metadata": {},
   "outputs": [
    {
     "data": {
      "text/html": [
       "<div>\n",
       "<style scoped>\n",
       "    .dataframe tbody tr th:only-of-type {\n",
       "        vertical-align: middle;\n",
       "    }\n",
       "\n",
       "    .dataframe tbody tr th {\n",
       "        vertical-align: top;\n",
       "    }\n",
       "\n",
       "    .dataframe thead th {\n",
       "        text-align: right;\n",
       "    }\n",
       "</style>\n",
       "<table border=\"1\" class=\"dataframe\">\n",
       "  <thead>\n",
       "    <tr style=\"text-align: right;\">\n",
       "      <th></th>\n",
       "      <th>Name</th>\n",
       "      <th>Age</th>\n",
       "      <th>City</th>\n",
       "      <th>Salary</th>\n",
       "    </tr>\n",
       "  </thead>\n",
       "  <tbody>\n",
       "    <tr>\n",
       "      <th>0</th>\n",
       "      <td>Alice</td>\n",
       "      <td>25.0</td>\n",
       "      <td>New York</td>\n",
       "      <td>70000.0</td>\n",
       "    </tr>\n",
       "    <tr>\n",
       "      <th>1</th>\n",
       "      <td>Bob</td>\n",
       "      <td>NaN</td>\n",
       "      <td>Los Angeles</td>\n",
       "      <td>80000.0</td>\n",
       "    </tr>\n",
       "    <tr>\n",
       "      <th>2</th>\n",
       "      <td>Charlie</td>\n",
       "      <td>35.0</td>\n",
       "      <td>Chicago</td>\n",
       "      <td>120000.0</td>\n",
       "    </tr>\n",
       "    <tr>\n",
       "      <th>3</th>\n",
       "      <td>David</td>\n",
       "      <td>40.0</td>\n",
       "      <td>Houston</td>\n",
       "      <td>NaN</td>\n",
       "    </tr>\n",
       "    <tr>\n",
       "      <th>4</th>\n",
       "      <td>Eve</td>\n",
       "      <td>NaN</td>\n",
       "      <td>Phoenix</td>\n",
       "      <td>NaN</td>\n",
       "    </tr>\n",
       "  </tbody>\n",
       "</table>\n",
       "</div>"
      ],
      "text/plain": [
       "      Name   Age         City    Salary\n",
       "0    Alice  25.0     New York   70000.0\n",
       "1      Bob   NaN  Los Angeles   80000.0\n",
       "2  Charlie  35.0      Chicago  120000.0\n",
       "3    David  40.0      Houston       NaN\n",
       "4      Eve   NaN      Phoenix       NaN"
      ]
     },
     "execution_count": 9,
     "metadata": {},
     "output_type": "execute_result"
    }
   ],
   "source": [
    "df"
   ]
  },
  {
   "cell_type": "code",
   "execution_count": 13,
   "id": "4d6d9efe",
   "metadata": {},
   "outputs": [
    {
     "data": {
      "text/plain": [
       "Name       0.0\n",
       "Age       40.0\n",
       "City       0.0\n",
       "Salary    40.0\n",
       "dtype: float64"
      ]
     },
     "execution_count": 13,
     "metadata": {},
     "output_type": "execute_result"
    }
   ],
   "source": [
    "df.isnull().mean() * 100 # Percentage of null values in each column"
   ]
  },
  {
   "cell_type": "markdown",
   "id": "b10eeb9d",
   "metadata": {},
   "source": [
    "## Encoding  🎆🌏 \n",
    "(Object  -> int ) converstion\n",
    "\n",
    "### What is Encoding? \n",
    "Encoding is the process of converting categorical data into a numerical format that can be used by machine learning algorithms. This is necessary because most machine learning models require numerical input.\n",
    "\n",
    "### Why is Encoding Important?\n",
    "- **Machine Learning Compatibility**: Many algorithms can only work with numerical data.\n",
    "- **Improved Model Performance**: Proper encoding can lead to better model performance by allowing the algorithm to understand the relationships between categories.\n",
    "\n",
    "### Types of Encoding\n",
    "1. **Label Encoding**: Converts each category into a unique integer.\n",
    "   - Example: `['red', 'green', 'blue']` becomes `[0, 1, 2]`.\n",
    "   - Use when categories are ordinal (have a meaningful order). \n",
    "2. **One-Hot Encoding**: Creates binary columns for each category.\n",
    "   - Example: `['red', 'green', 'blue']` becomes three columns:\n",
    "    ```\n",
    "\n",
    "    red | green | blue\n",
    "    1   | 0     | 0\n",
    "    0   | 1     | 0\n",
    "    0   | 0     | 1\n",
    "    ```\n",
    "   - Use when categories are nominal (no meaningful order).\n",
    "3. **Binary Encoding**: Converts categories into binary code.\n",
    "   - Example: `['red', 'green', 'blue']` becomes:\n",
    "    ```\n",
    "    red   | 00\n",
    "    green | 01\n",
    "    blue  | 10\n",
    "    ```\n",
    "4. **Frequency Encoding**: Replaces categories with their frequency in the dataset.\n",
    "\n",
    "5. **Target Encoding**: Replaces categories with the mean of the target variable for that category.\n",
    "\n"
   ]
  },
  {
   "cell_type": "code",
   "execution_count": 13,
   "id": "0f69f37c",
   "metadata": {},
   "outputs": [
    {
     "data": {
      "text/plain": [
       "Name      object\n",
       "Gender    object\n",
       "City      object\n",
       "Age        int64\n",
       "Passed      bool\n",
       "dtype: object"
      ]
     },
     "execution_count": 13,
     "metadata": {},
     "output_type": "execute_result"
    }
   ],
   "source": [
    "\n",
    "from sklearn.preprocessing import LabelEncoder, OneHotEncoder\n",
    "import pandas as pd\n",
    "\n",
    "# Import Data\n",
    "df = pd.read_csv(\"data/sample_data.csv\")  \n",
    "\n",
    "df.dtypes\n",
    "\n"
   ]
  },
  {
   "cell_type": "code",
   "execution_count": 15,
   "id": "1e3d302a",
   "metadata": {},
   "outputs": [
    {
     "data": {
      "text/html": [
       "<div>\n",
       "<style scoped>\n",
       "    .dataframe tbody tr th:only-of-type {\n",
       "        vertical-align: middle;\n",
       "    }\n",
       "\n",
       "    .dataframe tbody tr th {\n",
       "        vertical-align: top;\n",
       "    }\n",
       "\n",
       "    .dataframe thead th {\n",
       "        text-align: right;\n",
       "    }\n",
       "</style>\n",
       "<table border=\"1\" class=\"dataframe\">\n",
       "  <thead>\n",
       "    <tr style=\"text-align: right;\">\n",
       "      <th></th>\n",
       "      <th>Name</th>\n",
       "      <th>Gender</th>\n",
       "      <th>Age</th>\n",
       "      <th>Passed</th>\n",
       "      <th>Gender_Encoded</th>\n",
       "      <th>Passed_Encoded</th>\n",
       "      <th>City_Bangalore</th>\n",
       "      <th>City_Bhilai</th>\n",
       "      <th>City_Chennai</th>\n",
       "      <th>City_Delhi</th>\n",
       "      <th>City_Hyderabad</th>\n",
       "      <th>City_Jaipur</th>\n",
       "      <th>City_Lucknow</th>\n",
       "      <th>City_Mumbai</th>\n",
       "      <th>City_Pune</th>\n",
       "    </tr>\n",
       "  </thead>\n",
       "  <tbody>\n",
       "    <tr>\n",
       "      <th>0</th>\n",
       "      <td>MunnaThanos</td>\n",
       "      <td>Female</td>\n",
       "      <td>18</td>\n",
       "      <td>True</td>\n",
       "      <td>0</td>\n",
       "      <td>1</td>\n",
       "      <td>False</td>\n",
       "      <td>True</td>\n",
       "      <td>False</td>\n",
       "      <td>False</td>\n",
       "      <td>False</td>\n",
       "      <td>False</td>\n",
       "      <td>False</td>\n",
       "      <td>False</td>\n",
       "      <td>False</td>\n",
       "    </tr>\n",
       "    <tr>\n",
       "      <th>1</th>\n",
       "      <td>Goti_Badmas</td>\n",
       "      <td>Female</td>\n",
       "      <td>19</td>\n",
       "      <td>True</td>\n",
       "      <td>0</td>\n",
       "      <td>1</td>\n",
       "      <td>False</td>\n",
       "      <td>True</td>\n",
       "      <td>False</td>\n",
       "      <td>False</td>\n",
       "      <td>False</td>\n",
       "      <td>False</td>\n",
       "      <td>False</td>\n",
       "      <td>False</td>\n",
       "      <td>False</td>\n",
       "    </tr>\n",
       "    <tr>\n",
       "      <th>2</th>\n",
       "      <td>Aman</td>\n",
       "      <td>Male</td>\n",
       "      <td>24</td>\n",
       "      <td>True</td>\n",
       "      <td>1</td>\n",
       "      <td>1</td>\n",
       "      <td>False</td>\n",
       "      <td>False</td>\n",
       "      <td>True</td>\n",
       "      <td>False</td>\n",
       "      <td>False</td>\n",
       "      <td>False</td>\n",
       "      <td>False</td>\n",
       "      <td>False</td>\n",
       "      <td>False</td>\n",
       "    </tr>\n",
       "    <tr>\n",
       "      <th>3</th>\n",
       "      <td>Deepak</td>\n",
       "      <td>Male</td>\n",
       "      <td>30</td>\n",
       "      <td>True</td>\n",
       "      <td>1</td>\n",
       "      <td>1</td>\n",
       "      <td>False</td>\n",
       "      <td>False</td>\n",
       "      <td>False</td>\n",
       "      <td>False</td>\n",
       "      <td>False</td>\n",
       "      <td>False</td>\n",
       "      <td>False</td>\n",
       "      <td>False</td>\n",
       "      <td>True</td>\n",
       "    </tr>\n",
       "    <tr>\n",
       "      <th>4</th>\n",
       "      <td>Raj</td>\n",
       "      <td>Male</td>\n",
       "      <td>27</td>\n",
       "      <td>True</td>\n",
       "      <td>1</td>\n",
       "      <td>1</td>\n",
       "      <td>False</td>\n",
       "      <td>False</td>\n",
       "      <td>False</td>\n",
       "      <td>False</td>\n",
       "      <td>False</td>\n",
       "      <td>False</td>\n",
       "      <td>False</td>\n",
       "      <td>True</td>\n",
       "      <td>False</td>\n",
       "    </tr>\n",
       "  </tbody>\n",
       "</table>\n",
       "</div>"
      ],
      "text/plain": [
       "          Name  Gender  Age  Passed  Gender_Encoded  Passed_Encoded  \\\n",
       "0  MunnaThanos  Female   18    True               0               1   \n",
       "1  Goti_Badmas  Female   19    True               0               1   \n",
       "2         Aman    Male   24    True               1               1   \n",
       "3       Deepak    Male   30    True               1               1   \n",
       "4          Raj    Male   27    True               1               1   \n",
       "\n",
       "   City_Bangalore  City_Bhilai  City_Chennai  City_Delhi  City_Hyderabad  \\\n",
       "0           False         True         False       False           False   \n",
       "1           False         True         False       False           False   \n",
       "2           False        False          True       False           False   \n",
       "3           False        False         False       False           False   \n",
       "4           False        False         False       False           False   \n",
       "\n",
       "   City_Jaipur  City_Lucknow  City_Mumbai  City_Pune  \n",
       "0        False         False        False      False  \n",
       "1        False         False        False      False  \n",
       "2        False         False        False      False  \n",
       "3        False         False        False       True  \n",
       "4        False         False         True      False  "
      ]
     },
     "execution_count": 15,
     "metadata": {},
     "output_type": "execute_result"
    }
   ],
   "source": [
    "df_label = df.copy()  # Create a copy of the DataFrame for label encoding\n",
    "\n",
    "# Lable Encoding 🦄\n",
    "le = LabelEncoder()\n",
    "df_label[\"Gender_Encoded\"] = le.fit_transform(df_label[\"Gender\"]) #Encode\n",
    "df_label[\"Passed_Encoded\"] = le.fit_transform(df_label[\"Passed\"]) #Encode\n",
    "\n",
    "# One-Hot Encoding 🐳\n",
    "df_one_hotencoded = pd.get_dummies(df_label, columns=[\"City\"], drop_first=True) # One-hot encoding\n",
    "df_one_hotencoded.head()"
   ]
  },
  {
   "cell_type": "markdown",
   "id": "5c2f55cf",
   "metadata": {},
   "source": [
    "## Feature Scaling  🥐📔\n",
    "Feature scaling is the process of normalizing or standardizing the range of independent variables or features of data. It is essential for algorithms that compute distances between data points, such as k-nearest neighbors (KNN) and support vector machines (SVM).\n",
    "\n",
    "### Why is Feature Scaling Important?\n",
    "- **Improves Model Performance**: Helps algorithms converge faster and improves accuracy.\n",
    "- **Prevents Dominance**: Ensures that no single feature dominates others due to its scale.\n",
    "### Types of Feature Scaling\n",
    "1. **Min-Max Scaling**: Scales features to a fixed range, usually [0\n",
    ", 1].\n",
    "   - Formula: `X_scaled = (X - X_min) / (X_max - X_min)`\n",
    "   - Use when you want to preserve the relationships between features.\n",
    "2. **Standardization (Z-score Normalization)**: Scales features to have a mean of 0 and a standard deviation of 1.\n",
    "   - Formula: `X_scaled = (X - mean) / std`\n",
    "    - Use when features have different units or scales. \n",
    "3. **Robust Scaling**: Uses the median and interquartile range to scale features, making it robust to outliers."
   ]
  },
  {
   "cell_type": "code",
   "execution_count": null,
   "id": "78f09c79",
   "metadata": {},
   "outputs": [],
   "source": [
    "from sklearn.preprocessing import StandardScaler, MinMaxScaler\n",
    "\n",
    "#! StandScaling 🐬\n",
    "scaler = StandardScaler()\n",
    "X_scaled = scaler.fit_transform()\n",
    "\n",
    "#! MinMax Scaling 🫠\n",
    "scaler = MinMaxScaler()\n",
    "X_minmax_scaled = scaler.fit_transform()"
   ]
  },
  {
   "cell_type": "code",
   "execution_count": 33,
   "id": "ee5a5883",
   "metadata": {},
   "outputs": [
    {
     "name": "stdout",
     "output_type": "stream",
     "text": [
      "   StudyHors  TestScore\n",
      "0  -1.414214  -1.414214\n",
      "1  -0.707107  -0.707107\n",
      "2   0.000000   0.000000\n",
      "3   0.707107   0.707107\n",
      "4   1.414214   1.414214\n",
      "\n",
      "   StudyHors  TestScore\n",
      "0       0.00       0.00\n",
      "1       0.25       0.25\n",
      "2       0.50       0.50\n",
      "3       0.75       0.75\n",
      "4       1.00       1.00\n",
      "\n",
      "X_train:\n",
      "    StudyHors\n",
      "4         25\n",
      "2         15\n",
      "0          5\n",
      "3         20\n",
      "X_test:\n",
      "    StudyHors\n",
      "1         10\n",
      "y_train:\n",
      "    TestScore\n",
      "4         90\n",
      "2         70\n",
      "0         50\n",
      "3         80\n",
      "y_test:\n",
      "    TestScore\n",
      "1         60\n"
     ]
    }
   ],
   "source": [
    "import pandas as pd \n",
    "from sklearn.preprocessing import StandardScaler, MinMaxScaler\n",
    "from sklearn.model_selection import train_test_split # Train-Test Split 🐳\n",
    "\n",
    "\n",
    "data = {\n",
    "    \"StudyHors\": [5, 10, 15, 20, 25],\n",
    "    \"TestScore\": [50, 60, 70, 80, 90],\n",
    "}\n",
    "\n",
    "df = pd.DataFrame(data)\n",
    "\n",
    "# StandardScaler\n",
    "standard_scaler = StandardScaler() # Standardization (Z-score normalization)\n",
    "standard_scaled = standard_scaler.fit_transform(df) # Display the scaled DataFrame\n",
    "\n",
    "standard_scaled\n",
    "print(pd.DataFrame(standard_scaled, columns=['StudyHors', \"TestScore\"]))\n",
    "\n",
    "#! MinMaxScaler\n",
    "minmax_scaler = MinMaxScaler()\n",
    "minmax_scaled = minmax_scaler.fit_transform(df) # Display the scaled DataFrame\n",
    "minmax_scaled\n",
    "print(\"\")\n",
    "print(pd.DataFrame(minmax_scaled, columns=['StudyHors', \"TestScore\"]))\n",
    "\n",
    "\n",
    "#! Train-Test Split 🐳\n",
    "X = df[['StudyHors']]  # Features\n",
    "y = df[['TestScore']]    # Target variable\n",
    "X_train, X_test, y_train, y_test = train_test_split(X, y, test_size=0.2, random_state=42) # Split the data into training and testing sets\n",
    "print(\"\")\n",
    "print(\"X_train:\\n\", X_train)\n",
    "print(\"X_test:\\n\", X_test)\n",
    "print(\"y_train:\\n\", y_train)\n",
    "print(\"y_test:\\n\", y_test)\n",
    "\n",
    "\n",
    "\n"
   ]
  },
  {
   "cell_type": "markdown",
   "id": "d08eb79f",
   "metadata": {},
   "source": [
    "## Supervised Learning 📚🔍\n",
    "Supervised learning is a type of machine learning where the model is trained on labeled data. The algorithm learns to map input features to output labels, allowing it to make predictions on new, unseen data.\n",
    "\n",
    "#### Types of Supervised Learning\n",
    "\n",
    "1. **Classification** 🏷️: The task of predicting a discrete label (e.g., spam detection, image recognition).\n",
    "2. **Regression** 📈: The task of predicting a continuous value (e.g., house prices, stock prices).\n",
    "\n",
    "##### Types of Classification Algorithms \n",
    "\n",
    "1. **Logistic Regression** ➡️🔢: Used for binary classification tasks.\n",
    "2. **Decision Trees** 🌳: A tree-like model used for both classification and regression tasks.\n",
    "3. **K-Nearest Neighbors (KNN)** 👥: A simple, instance-based learning algorithm.\n",
    "\n",
    "\n",
    "### Model Training ⚙️🤖\n",
    "- `.fit()` 📚 — Train the model on labeled data (e.g., `X_train`, `y_train`).\n",
    "- `.predict()` 🔮 — Generate predictions for new/unseen inputs (e.g., `X_test`).\n",
    "- `.score()` ✅ — Quick built‑in evaluation on given data (when supported).\n",
    "- `.get_params()` / `.set_params()` 🧩 — Inspect and tune hyperparameters.\n",
    "- Cross-validation 🔁 — Use to estimate generalization performance.\n",
    "\n",
    "Workflow:\n",
    "1. Split data ➗: training vs. testing.\n",
    "2. Initialize model 🧠: choose an algorithm (e.g., Logistic Regression, KNN).\n",
    "3. Train 📈: call `.fit(X_train, y_train)`.\n",
    "4. Evaluate 🧪: compute metrics (e.g., accuracy, RMSE).\n",
    "5. Predict 🚀: call `.predict(X_test)` for final outputs.\n",
    "\n",
    "\n"
   ]
  },
  {
   "cell_type": "code",
   "execution_count": 13,
   "id": "04ee7134",
   "metadata": {},
   "outputs": [
    {
     "name": "stdout",
     "output_type": "stream",
     "text": [
      "Predicted score for 5.0 hours of study: 90.0\n"
     ]
    }
   ],
   "source": [
    "# Linear Regression\n",
    "from sklearn.linear_model import LinearRegression\n",
    "\n",
    "X = [[1], [2], [3], [4], [5]]\n",
    "Y = [20, 30, 40, 80, 90]\n",
    "\n",
    "model = LinearRegression()\n",
    "model.fit(X, Y) # Learn from training data\n",
    "\n",
    "hours = float(input(\"Enter study hours ⌛: \"))\n",
    "\n",
    "predicted_score = model.predict([[hours]])\n",
    "print(f\"Predicted score for {hours} hours of study: {predicted_score[0]}\")\n",
    "\n",
    "\n"
   ]
  },
  {
   "cell_type": "markdown",
   "id": "3ec4c19e",
   "metadata": {},
   "source": [
    "### Classification (Supervised Learning)\n",
    "#### 1) Logistic Regression 🦢\n",
    "\n",
    "\n"
   ]
  },
  {
   "cell_type": "code",
   "execution_count": 19,
   "id": "5e1b9868",
   "metadata": {},
   "outputs": [
    {
     "name": "stdout",
     "output_type": "stream",
     "text": [
      "With 2.0 hours of study, the predicted outcome is: Fail ❌\n"
     ]
    }
   ],
   "source": [
    "from sklearn.linear_model import LogisticRegression\n",
    "\n",
    "X = [[1], [2], [3], [4], [5]]  # hours studied input\n",
    "Y = [0, 0, 0, 1, 1]  # Binary target variable\n",
    "\n",
    "model = LogisticRegression()\n",
    "model.fit(X, Y)\n",
    "\n",
    "hours = float(input(\"Enter study hours ⌛: \"))\n",
    "predicted_pass = model.predict([[hours]])\n",
    "\n",
    "print(f\"With {hours} hours of study, the predicted outcome is: {'Pass ✅' if predicted_pass[0] == 1 else 'Fail ❌'}\")"
   ]
  },
  {
   "cell_type": "markdown",
   "id": "d9be5e2b",
   "metadata": {},
   "source": [
    "### 2) K-Nearest Neighbors (KNN) 🦘\n",
    "KNN means \"the K closest neighbors\" and is a simple, yet powerful algorithm used for classification and regression tasks.\n",
    "\n"
   ]
  },
  {
   "cell_type": "code",
   "execution_count": 21,
   "id": "d4fb7c80",
   "metadata": {},
   "outputs": [
    {
     "name": "stdout",
     "output_type": "stream",
     "text": [
      "The fruit is likely an orange 🍊.\n"
     ]
    }
   ],
   "source": [
    "from sklearn.neighbors import KNeighborsClassifier\n",
    "\n",
    "X = [[180,7], [200,7.5], [250,8], [300,9], [350,9.5] , [400,10]]  # weight and size of fruit input\n",
    "Y = [0, 0, 0, 1, 1, 1]  # passed exam (0=apple, 1=orange)\n",
    "\n",
    "model = KNeighborsClassifier(n_neighbors=3)\n",
    "\n",
    "model.fit(X, Y)\n",
    "\n",
    "weight = float(input(\"Enter fruit weight (in grams) 🍎🍊: \"))\n",
    "size = float(input(\"Enter fruit size (in inches) 🍎🍊: \"))\n",
    "\n",
    "prediction = model.predict([[weight, size]])\n",
    "if prediction[0] == 0:\n",
    "    print(\"The fruit is likely an apple 🍎.\")\n",
    "else:\n",
    "    print(\"The fruit is likely an orange 🍊.\")\n",
    "\n",
    "\n"
   ]
  },
  {
   "cell_type": "markdown",
   "id": "5955191e",
   "metadata": {},
   "source": [
    "### 3) Decision Tree Classifier 🥸\n",
    "means of making decisions based on the features of the data. It splits the data into branches to make predictions.\n"
   ]
  },
  {
   "cell_type": "code",
   "execution_count": 1,
   "id": "05a537f8",
   "metadata": {},
   "outputs": [
    {
     "name": "stdout",
     "output_type": "stream",
     "text": [
      "The predicted fruit is: Apple\n"
     ]
    }
   ],
   "source": [
    "from sklearn.tree import DecisionTreeClassifier\n",
    "\n",
    "X = [\n",
    "    [7,2], # Apple\n",
    "    [8,3], # Apple\n",
    "    [9,4], # Apple\n",
    "    [10,5], # Orange\n",
    "    [11,6], # Orange\n",
    "    [12,7]  # Orange\n",
    "]\n",
    "\n",
    "Y = [0, 0, 0, 1, 1, 1]  # 0=Apple, 1=Orange\n",
    "\n",
    "model = DecisionTreeClassifier()\n",
    "\n",
    "model.fit(X, Y)\n",
    "\n",
    "size = float(input(\"Enter fruit size (in inches) 🍎🍊: \"))\n",
    "shade = float(input(\"Enter the color shade: ): \"))\n",
    "\n",
    "prediction = model.predict([[size, shade]])\n",
    "fruit = \"Apple\" if prediction[0] == 0 else \"Orange\"\n",
    "print(f\"The predicted fruit is: {fruit}\")\n"
   ]
  },
  {
   "cell_type": "markdown",
   "id": "eef02bbb",
   "metadata": {},
   "source": [
    "### Evaluation Metrics 🐬✨\n",
    "\n",
    "#### 1) Classification Metrics 🏷️\n",
    "\n",
    "- **Accuracy** 🎯: The ratio of correctly predicted instances to the total instances.\n",
    "- **Precision** 🧪: The ratio of true positive predictions to the total positive predictions.\n",
    "- **Recall (Sensitivity)** 🔍: The ratio of true positive predictions to the total actual positives.\n",
    "- **F1 Score** ⚖️: The harmonic mean of precision and recall.\n",
    "\n",
    "#### 2) Regression Metrics 📈\n",
    "\n",
    "- **Mean Absolute Error (MAE)** 📏: The average of absolute differences between predicted and actual values.\n",
    "- **Mean Squared Error (MSE)** 🧮: The average of squared differences between predicted and actual values.\n",
    "- **R-squared** 📊: The proportion of variance in the dependent variable that is predictable from the independent variables.\n",
    "\n",
    "\n",
    "\n"
   ]
  },
  {
   "cell_type": "code",
   "execution_count": null,
   "id": "9c1e4340",
   "metadata": {},
   "outputs": [
    {
     "name": "stdout",
     "output_type": "stream",
     "text": [
      "Accuracy: 80.0%\n",
      "Precision: 100.0%\n",
      "Recall: 66.66666666666666%\n",
      "F1 Score: 80.0%\n"
     ]
    }
   ],
   "source": [
    "from sklearn.metrics import accuracy_score, precision_score, recall_score, f1_score\n",
    "\n",
    "# True answers (what actually happend)\n",
    "y_true = [0, 1, 1, 0, 1,]  # Actual labels\n",
    "\n",
    "# Model Predications (what it guessed)\n",
    "y_pred = [0, 1, 0, 0, 1]  # Predicted labels\n",
    "\n",
    "# Evaluation 🤪\n",
    "print(\"Accuracy:\", str(accuracy_score(y_true, y_pred) * 100) + \"%\")\n",
    "print(\"Precision:\", str(precision_score(y_true, y_pred) * 100) + \"%\")\n",
    "print(\"Recall:\", str(recall_score(y_true, y_pred) * 100) + \"%\")\n",
    "print(\"F1 Score:\", str(f1_score(y_true, y_pred) * 100) + \"%\")"
   ]
  },
  {
   "cell_type": "markdown",
   "id": "60792ab9",
   "metadata": {},
   "source": [
    "### 2) Confusion Matrix 📊\n",
    "\n",
    "#### Error Metrics in Regression 🧮\n",
    "\n",
    "1. **MAE (Mean Absolute Error)** 🧾  \n",
    "    - Measures the average of absolute differences between predicted values and actual values.  \n",
    "    - Example: If the prediction is off by 2, 3, and 1, the MAE is `(2 + 3 + 1) / 3 = 2`.  \n",
    "    - **Simple Words**: How far off, on average, are your predictions?\n",
    "\n",
    "2. **MSE (Mean Squared Error)** 🔢  \n",
    "    - Measures the average of squared differences between predicted values and actual values.  \n",
    "    - Example: If the prediction is off by 2, 3, and 1, the MSE is `(2² + 3² + 1²) / 3 = 4.67`.  \n",
    "    - **Simple Words**: Bigger errors hurt more because they are squared.\n",
    "\n",
    "3. **RMSE (Root Mean Squared Error)** 📐  \n",
    "    - The square root of the MSE.  \n",
    "    - Example: If the MSE is 4.67, the RMSE is `√4.67 ≈ 2.16`.  \n",
    "    - **Simple Words**: Like MSE, but in the same units as the original data.\n"
   ]
  },
  {
   "cell_type": "code",
   "execution_count": 20,
   "id": "1c5400bf",
   "metadata": {},
   "outputs": [
    {
     "name": "stdout",
     "output_type": "stream",
     "text": [
      "Confusion Matrix:\n",
      " [[1 1]\n",
      " [1 2]]\n",
      "Mean Absolute Error: 40.0%\n",
      "Mean Squared Error: 40.0%\n",
      "Root Mean Squared Error: 63.245553203367585%\n"
     ]
    }
   ],
   "source": [
    "from sklearn.metrics import confusion_matrix, mean_absolute_error, mean_squared_error , root_mean_squared_error\n",
    "\n",
    "y_true = [1, 0, 1, 0 ,1]  # Actual values\n",
    "y_pred = [1, 1 ,1, 0, 0]  # Predicted values\n",
    "\n",
    "# Evaluate the model\n",
    "conf_matrix = confusion_matrix(y_true, y_pred)\n",
    "print(\"Confusion Matrix:\\n\", conf_matrix)\n",
    "\n",
    "mae = mean_absolute_error(y_true, y_pred)\n",
    "print(\"Mean Absolute Error:\", str(mae * 100) + \"%\")\n",
    "\n",
    "mse = mean_squared_error(y_true, y_pred)\n",
    "print(\"Mean Squared Error:\", str(mse * 100) + \"%\")\n",
    "\n",
    "rmse = root_mean_squared_error(y_true, y_pred)\n",
    "print(\"Root Mean Squared Error:\", str(rmse * 100) + \"%\")"
   ]
  },
  {
   "cell_type": "code",
   "execution_count": null,
   "id": "0c8116dd",
   "metadata": {},
   "outputs": [],
   "source": []
  }
 ],
 "metadata": {
  "kernelspec": {
   "display_name": "env",
   "language": "python",
   "name": "python3"
  },
  "language_info": {
   "codemirror_mode": {
    "name": "ipython",
    "version": 3
   },
   "file_extension": ".py",
   "mimetype": "text/x-python",
   "name": "python",
   "nbconvert_exporter": "python",
   "pygments_lexer": "ipython3",
   "version": "3.11.4"
  }
 },
 "nbformat": 4,
 "nbformat_minor": 5
}
