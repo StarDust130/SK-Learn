{
 "cells": [
  {
   "cell_type": "code",
   "execution_count": null,
   "id": "45c2a19a",
   "metadata": {},
   "outputs": [],
   "source": [
    "import pandas as pd\n",
    "from sklearn.cluster import KMeans\n",
    "import matplotlib.pyplot as plt\n",
    "\n",
    "# Sample Data\n",
    "data = {\n",
    "    \"Customer\" : [\"Riya\" , \"Aarav\", \"Vivaan\", \"Diya\", \"Ananya\", \"Kabir\", \"Ishaan\", \"Saanvi\", \"Aditya\", \"Myra\"],\n",
    "    \"Age\" : [23, 25, 30, 22, 27, 35, 28, 24, 32, 26],\n",
    "    \"Spending\" : [5000, 7000, 8000, 3000, 6000, 9000, 7500, 4000, 8500, 6500]\n",
    "}\n",
    "\n",
    "# DataFrame \n",
    "df = pd.DataFrame(data)\n",
    "\n",
    "X = df[[\"Age\", \"Spending\"]]\n",
    "\n",
    "# KMeans Clustering: means a algorithm that partitions data into K distinct clusters based on feature similarity.\n",
    "\"\"\"\n",
    "1️⃣ n_clusters: How many parts we want to divide the data into.\n",
    "2️⃣ random_state: Seed value for random number generator to ensure reproducibility of results.\n",
    "3️⃣ n_init: Number of times the algorithm will run with different centroid seeds. The best output in terms of inertia will be chosen.\n",
    "\"\"\"\n",
    "model = KMeans(n_clusters=2 , random_state=42 , n_init=10)\n",
    "model.fit(X)\n"
   ]
  }
 ],
 "metadata": {
  "language_info": {
   "name": "python"
  }
 },
 "nbformat": 4,
 "nbformat_minor": 5
}
