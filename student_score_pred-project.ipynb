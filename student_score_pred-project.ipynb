{
 "cells": [
  {
   "cell_type": "markdown",
   "id": "a072be3e",
   "metadata": {},
   "source": [
    "### Project #1 🐦‍🔥"
   ]
  },
  {
   "cell_type": "code",
   "execution_count": 11,
   "id": "98e471c3",
   "metadata": {},
   "outputs": [
    {
     "name": "stdout",
     "output_type": "stream",
     "text": [
      "📊 Mean Absolute Error (MAE): 1.5999999999999985\n",
      "📉 Mean Squared Error (MSE): 3.1199999999999926\n",
      "📈 Root Mean Squared Error (RMSE): 1.7663521732655674\n",
      "✨ Predicted Score: 92.60000000000001 marks\n"
     ]
    }
   ],
   "source": [
    "# 📚 Import libraries\n",
    "import pandas as pd\n",
    "from sklearn.linear_model import LinearRegression\n",
    "from sklearn.metrics import mean_absolute_error, mean_squared_error\n",
    "import numpy as np\n",
    "\n",
    "# 📂 Load data\n",
    "data = pd.read_csv(\"data/student.csv\")  # 🎓 Student study hours and scores\n",
    "\n",
    "# 📊 Split data into features (X) and target (y)\n",
    "X = data[[\"Hours\"]]  # 🕒 Study hours (2D input)\n",
    "y = data[\"Score\"]    # 🎯 Target scores\n",
    "\n",
    "# 🤖 Create and train the model\n",
    "model = LinearRegression()  # 🛠️ Linear Regression model\n",
    "model.fit(X, y)  # 🚀 Train the model\n",
    "\n",
    "# 🔮 Predict scores\n",
    "predicted_score = model.predict(X)  # 📈 Predicted scores for training data\n",
    "\n",
    "# 📏 Evaluate the model\n",
    "mae = mean_absolute_error(y, predicted_score)  # 📊 Mean Absolute Error\n",
    "mse = mean_squared_error(y, predicted_score)   # 📉 Mean Squared Error\n",
    "rmse = np.sqrt(mse)                            # 📈 Root Mean Squared Error\n",
    "\n",
    "# 🎯 Print evaluation results\n",
    "print(\"📊 Mean Absolute Error (MAE):\", mae)\n",
    "print(\"📉 Mean Squared Error (MSE):\", mse)\n",
    "print(\"📈 Root Mean Squared Error (RMSE):\", rmse)\n",
    "\n",
    "# 🔮 Predict new score\n",
    "new_prediction = float(input(\"⏳ Enter study hours: \"))  # 🕒 Input study hours\n",
    "predicted_score = model.predict(pd.DataFrame([[new_prediction]], columns=[\"Hours\"]))  # 🧮 Predict score\n",
    "print(f\"✨ Predicted Score: {predicted_score[0]} marks\")  # 🎓 Display predicted score\n"
   ]
  },
  {
   "cell_type": "code",
   "execution_count": null,
   "id": "f28a89c9",
   "metadata": {},
   "outputs": [],
   "source": []
  }
 ],
 "metadata": {
  "kernelspec": {
   "display_name": "env",
   "language": "python",
   "name": "python3"
  },
  "language_info": {
   "codemirror_mode": {
    "name": "ipython",
    "version": 3
   },
   "file_extension": ".py",
   "mimetype": "text/x-python",
   "name": "python",
   "nbconvert_exporter": "python",
   "pygments_lexer": "ipython3",
   "version": "3.11.4"
  }
 },
 "nbformat": 4,
 "nbformat_minor": 5
}
