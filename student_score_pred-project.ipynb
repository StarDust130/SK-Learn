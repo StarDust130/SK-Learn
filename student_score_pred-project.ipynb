{
 "cells": [
  {
   "cell_type": "markdown",
   "id": "a072be3e",
   "metadata": {},
   "source": [
    "### Project #1 🐦‍🔥"
   ]
  },
  {
   "cell_type": "code",
   "execution_count": 9,
   "id": "98e471c3",
   "metadata": {},
   "outputs": [
    {
     "name": "stdout",
     "output_type": "stream",
     "text": [
      "📊 Mean Absolute Error (MAE): 1.5999999999999985\n",
      "📉 Mean Squared Error (MSE): 3.1199999999999926\n",
      "📈 Root Mean Squared Error (RMSE): 1.7663521732655674\n"
     ]
    },
    {
     "name": "stdout",
     "output_type": "stream",
     "text": [
      "✨ Predicted Score: 87.7 marks\n"
     ]
    }
   ],
   "source": [
    "import pandas as pd\n",
    "from sklearn.linear_model import LinearRegression\n",
    "from sklearn.metrics import mean_absolute_error , mean_squared_error \n",
    "import numpy as np\n",
    "\n",
    "\n",
    "data = pd.read_csv(\"data/student.csv\")\n",
    "\n",
    "X = data[[\"Hours\"]] # Double bracket for = 2D input\n",
    "y = data[\"Score\"] # Target Column\n",
    "\n",
    "model = LinearRegression()\n",
    "model.fit(X, y)\n",
    "\n",
    "predicted_score = model.predict(X)\n",
    "\n",
    "# Evaluate\n",
    "mae = mean_absolute_error(y, predicted_score)\n",
    "mse = mean_squared_error(y, predicted_score)\n",
    "rmse = np.sqrt(mse)\n",
    "\n",
    "# 🎯 Evaluation Results\n",
    "print(\"📊 Mean Absolute Error (MAE):\", mae)\n",
    "print(\"📉 Mean Squared Error (MSE):\", mse)\n",
    "print(\"📈 Root Mean Squared Error (RMSE):\", rmse)\n",
    "\n",
    "# 🔮 Predicting New Score\n",
    "new_prediction = float(input(\"⏳ Enter study hours: \"))\n",
    "predicted_score = model.predict(pd.DataFrame([[new_prediction]], columns=[\"Hours\"]))  # Ensure input has valid feature names\n",
    "print(f\"✨ Predicted Score: {predicted_score[0]} marks\")\n"
   ]
  },
  {
   "cell_type": "code",
   "execution_count": null,
   "id": "f28a89c9",
   "metadata": {},
   "outputs": [],
   "source": []
  }
 ],
 "metadata": {
  "kernelspec": {
   "display_name": "env",
   "language": "python",
   "name": "python3"
  },
  "language_info": {
   "codemirror_mode": {
    "name": "ipython",
    "version": 3
   },
   "file_extension": ".py",
   "mimetype": "text/x-python",
   "name": "python",
   "nbconvert_exporter": "python",
   "pygments_lexer": "ipython3",
   "version": "3.11.4"
  }
 },
 "nbformat": 4,
 "nbformat_minor": 5
}
